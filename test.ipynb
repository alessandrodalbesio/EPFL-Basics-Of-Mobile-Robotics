{
 "cells": [
  {
   "cell_type": "markdown",
   "metadata": {},
   "source": [
    "# Testing notebook"
   ]
  },
  {
   "cell_type": "code",
   "execution_count": 1,
   "metadata": {},
   "outputs": [],
   "source": [
    "from vision.map import * # Import map library\n",
    "from utils.exceptions import * # Import exceptions"
   ]
  },
  {
   "cell_type": "markdown",
   "metadata": {},
   "source": [
    "### Computer vision\n",
    "##### ArUco markers calibration"
   ]
  },
  {
   "cell_type": "code",
   "execution_count": 9,
   "metadata": {},
   "outputs": [],
   "source": [
    "import cv2\n",
    "\n",
    "cam = cv2.VideoCapture(0)\n",
    "parameters = cv2.aruco.DetectorParameters()\n",
    "detector = cv2.aruco.ArucoDetector(cv2.aruco.getPredefinedDictionary(cv2.aruco.DICT_6X6_250), parameters)\n",
    "while True:\n",
    "    _, frame = cam.read()\n",
    "    markers = detector.detectMarkers(frame)\n",
    "    cv2.aruco.drawDetectedMarkers(frame, markers[0], markers[1])\n",
    "    cv2.imshow(\"frame\", frame)\n",
    "    if cv2.waitKey(1) & 0xFF == ord('q'):\n",
    "        break\n",
    "cam.release()\n",
    "cv2.destroyAllWindows()"
   ]
  },
  {
   "cell_type": "markdown",
   "metadata": {},
   "source": [
    "##### Real time testing of the complete vision pipeline"
   ]
  },
  {
   "cell_type": "code",
   "execution_count": 10,
   "metadata": {},
   "outputs": [
    {
     "name": "stdout",
     "output_type": "stream",
     "text": [
      "[array([[239.        , 174.59352302],\n",
      "       [239.        ,  63.80623849],\n",
      "       [350.        ,  60.16689423],\n",
      "       [350.        , 176.41319515],\n",
      "       [239.        , 174.59352302]]), array([[552.11431918, 208.7322539 ],\n",
      "       [448.04269884, 103.13016856],\n",
      "       [522.84484436,  34.23345558],\n",
      "       [622.98600676, 135.89190832],\n",
      "       [552.11431918, 208.7322539 ]]), array([[437.55610931, 442.68394177],\n",
      "       [329.48708487, 435.2309056 ],\n",
      "       [340.66026597, 257.85665578],\n",
      "       [447.30458272, 267.21142041],\n",
      "       [437.55610931, 442.68394177]])]\n",
      "[ 71. 391.] [569. 290.]\n",
      "Initial position:  [ 71. 391.]\n",
      "Final position:  [569. 290.]\n",
      "Obstacles:  [array([[239.        , 174.59352302],\n",
      "       [239.        ,  63.80623849],\n",
      "       [350.        ,  60.16689423],\n",
      "       [350.        , 176.41319515],\n",
      "       [239.        , 174.59352302]]), array([[552.11431918, 208.7322539 ],\n",
      "       [448.04269884, 103.13016856],\n",
      "       [522.84484436,  34.23345558],\n",
      "       [622.98600676, 135.89190832],\n",
      "       [552.11431918, 208.7322539 ]]), array([[437.55610931, 442.68394177],\n",
      "       [329.48708487, 435.2309056 ],\n",
      "       [340.66026597, 257.85665578],\n",
      "       [447.30458272, 267.21142041],\n",
      "       [437.55610931, 442.68394177]])]\n",
      "Optimal path:  [array([ 71., 391.]), array([340.66026597, 257.85665578]), array([447.30458272, 267.21142041]), array([569., 290.])]\n"
     ]
    }
   ],
   "source": [
    "from vision.camera import *\n",
    "from time import *\n",
    "from vision.map import *\n",
    "from global_navigation.main import *\n",
    "cam = Camera()\n",
    "map = Map(cam, number_of_obstacles=3, robot_size=25)\n",
    "map.findObstacles()\n",
    "glob = Global(map.obstacles)\n",
    "initial, _, final = map.getInitialFinalData()\n",
    "print(map.obstacles)\n",
    "cam.obstacles = map.obstacles\n",
    "cam.startPosition = initial\n",
    "cam.goalPosition = final\n",
    "print(initial, final)\n",
    "glob.find_optimal_path(initial, final)\n",
    "cam.optimalPath = glob.optimal_path\n",
    "\n",
    "print(\"Initial position: \", initial)\n",
    "print(\"Final position: \", final)\n",
    "print(\"Obstacles: \", map.obstacles)\n",
    "print(\"Optimal path: \", glob.optimal_path)\n",
    "\n",
    "while True:\n",
    "    # Get the position and the orientation\n",
    "    p,theta = map.cameraRobotSensing()\n",
    "    cam.robotMeasuredPosition = p\n",
    "    cam.robotMeasuredOrientation = theta\n",
    "    if(cam.display()):\n",
    "        cam.release()\n",
    "        break\n",
    "\n",
    "cam.release()\n",
    "cv2.destroyAllWindows()"
   ]
  }
 ],
 "metadata": {
  "kernelspec": {
   "display_name": ".venv",
   "language": "python",
   "name": "python3"
  },
  "language_info": {
   "codemirror_mode": {
    "name": "ipython",
    "version": 3
   },
   "file_extension": ".py",
   "mimetype": "text/x-python",
   "name": "python",
   "nbconvert_exporter": "python",
   "pygments_lexer": "ipython3",
   "version": "3.11.2"
  }
 },
 "nbformat": 4,
 "nbformat_minor": 2
}
