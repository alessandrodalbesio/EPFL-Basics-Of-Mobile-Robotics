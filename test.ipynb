{
 "cells": [
  {
   "cell_type": "markdown",
   "metadata": {},
   "source": [
    "# Testing notebook"
   ]
  },
  {
   "cell_type": "code",
   "execution_count": 1,
   "metadata": {},
   "outputs": [],
   "source": [
    "from vision.map import * # Import map library\n",
    "from tdmclient import ClientAsync # Import thymio library\n",
    "from utils.exceptions import * # Import exceptions\n",
    "from utils.logger import * # Import logger\n",
    "from global_navigation.globalNav import *"
   ]
  },
  {
   "cell_type": "markdown",
   "metadata": {},
   "source": [
    "### Computer vision\n",
    "##### ArUco markers calibration"
   ]
  },
  {
   "cell_type": "code",
   "execution_count": 8,
   "metadata": {},
   "outputs": [],
   "source": [
    "import cv2\n",
    "import time\n",
    "\n",
    "cam = cv2.VideoCapture(0)\n",
    "parameters = cv2.aruco.DetectorParameters()\n",
    "detector = cv2.aruco.ArucoDetector(cv2.aruco.getPredefinedDictionary(cv2.aruco.DICT_6X6_250), parameters)\n",
    "while True:\n",
    "    _, frame = cam.read()\n",
    "    markers = detector.detectMarkers(frame)\n",
    "    cv2.aruco.drawDetectedMarkers(frame, markers[0], markers[1])\n",
    "    cv2.imshow(\"frame\", frame)\n",
    "    time.sleep(0.1)\n",
    "    if cv2.waitKey(1) & 0xFF == ord('q'):\n",
    "        break\n",
    "cam.release()\n",
    "cv2.destroyAllWindows()"
   ]
  },
  {
   "cell_type": "markdown",
   "metadata": {},
   "source": [
    "##### Real time testing of the complete vision pipeline"
   ]
  },
  {
   "cell_type": "code",
   "execution_count": 2,
   "metadata": {},
   "outputs": [
    {
     "name": "stdout",
     "output_type": "stream",
     "text": [
      "[485. 161.]\n",
      "[152. 439.]\n"
     ]
    },
    {
     "ename": "AttributeError",
     "evalue": "'builtin_function_or_method' object has no attribute 'sleep'",
     "output_type": "error",
     "traceback": [
      "\u001b[0;31m---------------------------------------------------------------------------\u001b[0m",
      "\u001b[0;31mAttributeError\u001b[0m                            Traceback (most recent call last)",
      "\u001b[1;32m/Users/ninalahellec/Documents/Master EPFL/MA1/Basics of Mobile Robotics/BOMR-17/test.ipynb Cell 6\u001b[0m line \u001b[0;36m2\n\u001b[1;32m     <a href='vscode-notebook-cell:/Users/ninalahellec/Documents/Master%20EPFL/MA1/Basics%20of%20Mobile%20Robotics/BOMR-17/test.ipynb#W5sZmlsZQ%3D%3D?line=17'>18</a>\u001b[0m     \u001b[39mif\u001b[39;00m(cam\u001b[39m.\u001b[39mdisplay()):\n\u001b[1;32m     <a href='vscode-notebook-cell:/Users/ninalahellec/Documents/Master%20EPFL/MA1/Basics%20of%20Mobile%20Robotics/BOMR-17/test.ipynb#W5sZmlsZQ%3D%3D?line=18'>19</a>\u001b[0m         \u001b[39mbreak\u001b[39;00m\n\u001b[0;32m---> <a href='vscode-notebook-cell:/Users/ninalahellec/Documents/Master%20EPFL/MA1/Basics%20of%20Mobile%20Robotics/BOMR-17/test.ipynb#W5sZmlsZQ%3D%3D?line=19'>20</a>\u001b[0m     time\u001b[39m.\u001b[39;49msleep(\u001b[39m0.1\u001b[39m)\n\u001b[1;32m     <a href='vscode-notebook-cell:/Users/ninalahellec/Documents/Master%20EPFL/MA1/Basics%20of%20Mobile%20Robotics/BOMR-17/test.ipynb#W5sZmlsZQ%3D%3D?line=21'>22</a>\u001b[0m cam\u001b[39m.\u001b[39mrelease()\n",
      "\u001b[0;31mAttributeError\u001b[0m: 'builtin_function_or_method' object has no attribute 'sleep'"
     ]
    }
   ],
   "source": [
    "from vision.camera import *\n",
    "from time import time\n",
    "cam = Camera()\n",
    "map = Map(cam)\n",
    "map.findObstacles()\n",
    "initial, final = map.getInitialFinalPoints()\n",
    "print(initial)\n",
    "print(final)\n",
    "cam.obstacles = map.obstacles\n",
    "cam.startPosition = initial\n",
    "cam.goalPosition = final\n",
    "\n",
    "while True:\n",
    "    # Get the position and the orientation\n",
    "    p,theta = map.cameraRobotSensing()\n",
    "    cam.robotEstimatedPosition = p\n",
    "    cam.robotEstimatedOrientation = theta\n",
    "    if(cam.display()):\n",
    "        break\n",
    "    time.sleep(0.1)\n",
    "\n",
    "cam.release()"
   ]
  },
  {
   "cell_type": "code",
   "execution_count": null,
   "metadata": {},
   "outputs": [],
   "source": []
  }
 ],
 "metadata": {
  "kernelspec": {
   "display_name": ".venv",
   "language": "python",
   "name": "python3"
  },
  "language_info": {
   "codemirror_mode": {
    "name": "ipython",
    "version": 3
   },
   "file_extension": ".py",
   "mimetype": "text/x-python",
   "name": "python",
   "nbconvert_exporter": "python",
   "pygments_lexer": "ipython3",
   "version": "3.11.5"
  }
 },
 "nbformat": 4,
 "nbformat_minor": 2
}
