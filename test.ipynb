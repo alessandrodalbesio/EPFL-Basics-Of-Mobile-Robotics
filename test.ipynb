{
 "cells": [
  {
   "cell_type": "markdown",
   "metadata": {},
   "source": [
    "# Testing notebook"
   ]
  },
  {
   "cell_type": "code",
   "execution_count": null,
   "metadata": {},
   "outputs": [],
   "source": [
    "from vision.map import * # Import map library\n",
    "from tdmclient import ClientAsync # Import thymio library\n",
    "from utils.exceptions import * # Import exceptions\n",
    "from utils.logger import * # Import logger\n",
    "from global_navigation.globalNav import *"
   ]
  },
  {
   "cell_type": "markdown",
   "metadata": {},
   "source": [
    "### Computer vision\n",
    "##### ArUco markers calibration"
   ]
  },
  {
   "cell_type": "code",
   "execution_count": null,
   "metadata": {},
   "outputs": [],
   "source": [
    "import cv2\n",
    "import time\n",
    "\n",
    "cam = cv2.VideoCapture(0)\n",
    "parameters = cv2.aruco.DetectorParameters()\n",
    "detector = cv2.aruco.ArucoDetector(cv2.aruco.getPredefinedDictionary(cv2.aruco.DICT_6X6_250), parameters)\n",
    "while True:\n",
    "    _, frame = cam.read()\n",
    "    markers = detector.detectMarkers(frame)\n",
    "    cv2.aruco.drawDetectedMarkers(frame, markers[0], markers[1])\n",
    "    cv2.imshow(\"frame\", frame)\n",
    "    time.sleep(0.1)\n",
    "    if cv2.waitKey(1) & 0xFF == ord('q'):\n",
    "        break\n",
    "cam.release()\n",
    "cv2.destroyAllWindows()"
   ]
  },
  {
   "cell_type": "markdown",
   "metadata": {},
   "source": [
    "##### Real time testing of the complete vision pipeline"
   ]
  },
  {
   "cell_type": "code",
   "execution_count": null,
   "metadata": {},
   "outputs": [],
   "source": [
    "cam = Camera()\n",
    "map = Map(cam)\n",
    "map.findObstacles()\n",
    "initial, final = map.getInitialFinalPoints()\n",
    "cam.obstacles = map.obstacles\n",
    "cam.startPosition = initial\n",
    "cam.goalPosition = final\n",
    "\n",
    "while True:\n",
    "    # Get the position and the orientation\n",
    "    p,theta = map.cameraRobotSensing()\n",
    "    cam.robotEstimatedPosition = p\n",
    "    cam.robotEstimatedOrientation = theta\n",
    "    if(cam.display()):\n",
    "        break\n",
    "    time.sleep(0.1)\n",
    "\n",
    "cam.release()"
   ]
  }
 ],
 "metadata": {
  "kernelspec": {
   "display_name": ".venv",
   "language": "python",
   "name": "python3"
  },
  "language_info": {
   "name": "python",
   "version": "3.11.1"
  }
 },
 "nbformat": 4,
 "nbformat_minor": 2
}
