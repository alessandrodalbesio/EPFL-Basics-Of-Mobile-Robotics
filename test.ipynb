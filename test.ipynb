{
 "cells": [
  {
   "cell_type": "markdown",
   "metadata": {},
   "source": [
    "# Testing notebook"
   ]
  },
  {
   "cell_type": "code",
   "execution_count": 1,
   "metadata": {},
   "outputs": [],
   "source": [
    "from vision.map import * # Import map library\n",
    "from utils.exceptions import * # Import exceptions"
   ]
  },
  {
   "cell_type": "markdown",
   "metadata": {},
   "source": [
    "### Computer vision\n",
    "##### ArUco markers calibration"
   ]
  },
  {
   "cell_type": "code",
   "execution_count": 9,
   "metadata": {},
   "outputs": [],
   "source": [
    "import cv2\n",
    "\n",
    "cam = cv2.VideoCapture(0)\n",
    "parameters = cv2.aruco.DetectorParameters()\n",
    "detector = cv2.aruco.ArucoDetector(cv2.aruco.getPredefinedDictionary(cv2.aruco.DICT_6X6_250), parameters)\n",
    "while True:\n",
    "    _, frame = cam.read()\n",
    "    markers = detector.detectMarkers(frame)\n",
    "    cv2.aruco.drawDetectedMarkers(frame, markers[0], markers[1])\n",
    "    cv2.imshow(\"frame\", frame)\n",
    "    if cv2.waitKey(1) & 0xFF == ord('q'):\n",
    "        break\n",
    "cam.release()\n",
    "cv2.destroyAllWindows()"
   ]
  },
  {
   "cell_type": "markdown",
   "metadata": {},
   "source": [
    "##### Real time testing of the complete vision pipeline"
   ]
  },
  {
   "cell_type": "code",
   "execution_count": 10,
   "metadata": {},
   "outputs": [
    {
     "name": "stdout",
     "output_type": "stream",
     "text": [
      "Initial position:  [565. 152.]\n",
      "Final position:  [ 68. 122.]\n",
      "Obstacles:  [array([[214.92703122, 149.49060037],\n",
      "       [178.70436007,  97.74392729],\n",
      "       [203.71932987,  51.049317  ],\n",
      "       [219.6320314 ,  39.68310162],\n",
      "       [295.25115   ,  23.04689553],\n",
      "       [327.1007305 , 101.73409442],\n",
      "       [261.55426526, 155.08586845],\n",
      "       [214.92703122, 149.49060037]]), array([[342.38186059, 299.05687031],\n",
      "       [363.06414488, 210.4185091 ],\n",
      "       [446.11959099, 208.65137195],\n",
      "       [489.51518054, 306.69325945]])]\n",
      "Optimal path:  [array([565., 152.]), array([261.55426526, 155.08586845]), array([214.92703122, 149.49060037]), array([ 68., 122.])]\n"
     ]
    }
   ],
   "source": [
    "from vision.camera import *\n",
    "from time import *\n",
    "from vision.map import *\n",
    "from global_navigation.main import *\n",
    "cam = Camera()\n",
    "map = Map(cam, number_of_obstacles=3, robot_size=25)\n",
    "map.findObstacles()\n",
    "glob = Global(map.obstacles)\n",
    "initial, final = map.getInitialFinalPoints()\n",
    "cam.obstacles = map.obstacles\n",
    "cam.startPosition = initial\n",
    "cam.goalPosition = final\n",
    "glob.find_optimal_path(initial, final)\n",
    "cam.optimalPath = glob.optimal_path\n",
    "\n",
    "print(\"Initial position: \", initial)\n",
    "print(\"Final position: \", final)\n",
    "print(\"Obstacles: \", map.obstacles)\n",
    "print(\"Optimal path: \", glob.optimal_path)\n",
    "\n",
    "while True:\n",
    "    # Get the position and the orientation\n",
    "    #p,theta = map.cameraRobotSensing()\n",
    "    if(cam.display()):\n",
    "        cam.release()\n",
    "        break\n",
    "\n",
    "cam.release()\n",
    "cv2.destroyAllWindows()"
   ]
  }
 ],
 "metadata": {
  "kernelspec": {
   "display_name": ".venv",
   "language": "python",
   "name": "python3"
  },
  "language_info": {
   "codemirror_mode": {
    "name": "ipython",
    "version": 3
   },
   "file_extension": ".py",
   "mimetype": "text/x-python",
   "name": "python",
   "nbconvert_exporter": "python",
   "pygments_lexer": "ipython3",
   "version": "3.11.2"
  }
 },
 "nbformat": 4,
 "nbformat_minor": 2
}
