{
 "cells": [
  {
   "cell_type": "markdown",
   "metadata": {},
   "source": [
    "# Testing notebook"
   ]
  },
  {
   "cell_type": "code",
   "execution_count": 2,
   "metadata": {},
   "outputs": [],
   "source": [
    "from vision.map import * # Import map library"
   ]
  },
  {
   "cell_type": "markdown",
   "metadata": {},
   "source": [
    "### Computer vision\n",
    "##### ArUco markers calibration"
   ]
  },
  {
   "cell_type": "code",
   "execution_count": 3,
   "metadata": {},
   "outputs": [],
   "source": [
    "import cv2\n",
    "\n",
    "cam = cv2.VideoCapture(0)\n",
    "parameters = cv2.aruco.DetectorParameters()\n",
    "detector = cv2.aruco.ArucoDetector(cv2.aruco.getPredefinedDictionary(cv2.aruco.DICT_6X6_250), parameters)\n",
    "while True:\n",
    "    _, frame = cam.read()\n",
    "    markers = detector.detectMarkers(frame)\n",
    "    cv2.aruco.drawDetectedMarkers(frame, markers[0], markers[1])\n",
    "    cv2.imshow(\"frame\", frame)\n",
    "    if cv2.waitKey(1) & 0xFF == ord('q'):\n",
    "        break\n",
    "cam.release()\n",
    "cv2.destroyAllWindows()"
   ]
  },
  {
   "cell_type": "markdown",
   "metadata": {},
   "source": [
    "##### Real time testing of the complete vision pipeline"
   ]
  },
  {
   "cell_type": "code",
   "execution_count": 1,
   "metadata": {},
   "outputs": [
    {
     "name": "stdout",
     "output_type": "stream",
     "text": [
      "[array([[586.51925445,  73.31876418],\n",
      "       [575.76574146,  35.68146871],\n",
      "       [579.6111727 , -22.        ],\n",
      "       [678.        , -22.        ],\n",
      "       [678.        ,  54.69469652],\n",
      "       [631.1423294 ,  88.93684042],\n",
      "       [586.51925445,  73.31876418]]), array([[575.17784752, 627.34237503],\n",
      "       [573.82332375, 435.        ],\n",
      "       [698.        , 435.        ],\n",
      "       [698.        , 625.65987979],\n",
      "       [575.17784752, 627.34237503]]), array([[  7.45540089, 641.24750773],\n",
      "       [  8.02904488, 638.37928776],\n",
      "       [ 19.75317277, 612.        ],\n",
      "       [ 51.35533906, 612.        ],\n",
      "       [ 67.47492294, 628.11958388],\n",
      "       [ 65.16899181, 678.85006873],\n",
      "       [ 12.42842928, 694.67223749],\n",
      "       [  2.28105056, 649.00903322],\n",
      "       [  7.45540089, 641.24750773]])]\n",
      "[ 82. 547.] [805. 126.]\n",
      "Initial position:  [ 82. 547.]\n",
      "Final position:  [805. 126.]\n",
      "Obstacles:  [array([[586.51925445,  73.31876418],\n",
      "       [575.76574146,  35.68146871],\n",
      "       [579.6111727 , -22.        ],\n",
      "       [678.        , -22.        ],\n",
      "       [678.        ,  54.69469652],\n",
      "       [631.1423294 ,  88.93684042],\n",
      "       [586.51925445,  73.31876418]]), array([[575.17784752, 627.34237503],\n",
      "       [573.82332375, 435.        ],\n",
      "       [698.        , 435.        ],\n",
      "       [698.        , 625.65987979],\n",
      "       [575.17784752, 627.34237503]]), array([[  7.45540089, 641.24750773],\n",
      "       [  8.02904488, 638.37928776],\n",
      "       [ 19.75317277, 612.        ],\n",
      "       [ 51.35533906, 612.        ],\n",
      "       [ 67.47492294, 628.11958388],\n",
      "       [ 65.16899181, 678.85006873],\n",
      "       [ 12.42842928, 694.67223749],\n",
      "       [  2.28105056, 649.00903322],\n",
      "       [  7.45540089, 641.24750773]])]\n",
      "Optimal path:  [array([ 82., 547.]), array([805., 126.])]\n"
     ]
    },
    {
     "ename": "ValueError",
     "evalue": "too many values to unpack (expected 2)",
     "output_type": "error",
     "traceback": [
      "\u001b[1;31m---------------------------------------------------------------------------\u001b[0m",
      "\u001b[1;31mValueError\u001b[0m                                Traceback (most recent call last)",
      "\u001b[1;32mc:\\Users\\aless\\OneDrive\\Desktop\\Uni\\BOMR-17\\test.ipynb Cell 6\u001b[0m line \u001b[0;36m2\n\u001b[0;32m     <a href='vscode-notebook-cell:/c%3A/Users/aless/OneDrive/Desktop/Uni/BOMR-17/test.ipynb#W5sZmlsZQ%3D%3D?line=20'>21</a>\u001b[0m \u001b[39mprint\u001b[39m(\u001b[39m\"\u001b[39m\u001b[39mOptimal path: \u001b[39m\u001b[39m\"\u001b[39m, glob\u001b[39m.\u001b[39moptimal_path)\n\u001b[0;32m     <a href='vscode-notebook-cell:/c%3A/Users/aless/OneDrive/Desktop/Uni/BOMR-17/test.ipynb#W5sZmlsZQ%3D%3D?line=22'>23</a>\u001b[0m \u001b[39mwhile\u001b[39;00m \u001b[39mTrue\u001b[39;00m:\n\u001b[0;32m     <a href='vscode-notebook-cell:/c%3A/Users/aless/OneDrive/Desktop/Uni/BOMR-17/test.ipynb#W5sZmlsZQ%3D%3D?line=23'>24</a>\u001b[0m     \u001b[39m# Get the position and the orientation\u001b[39;00m\n\u001b[1;32m---> <a href='vscode-notebook-cell:/c%3A/Users/aless/OneDrive/Desktop/Uni/BOMR-17/test.ipynb#W5sZmlsZQ%3D%3D?line=24'>25</a>\u001b[0m     p,theta \u001b[39m=\u001b[39m \u001b[39mmap\u001b[39m\u001b[39m.\u001b[39mcameraRobotSensing()\n\u001b[0;32m     <a href='vscode-notebook-cell:/c%3A/Users/aless/OneDrive/Desktop/Uni/BOMR-17/test.ipynb#W5sZmlsZQ%3D%3D?line=25'>26</a>\u001b[0m     cam\u001b[39m.\u001b[39mrobotMeasuredPosition \u001b[39m=\u001b[39m p\n\u001b[0;32m     <a href='vscode-notebook-cell:/c%3A/Users/aless/OneDrive/Desktop/Uni/BOMR-17/test.ipynb#W5sZmlsZQ%3D%3D?line=26'>27</a>\u001b[0m     cam\u001b[39m.\u001b[39mrobotMeasuredOrientation \u001b[39m=\u001b[39m theta\n",
      "\u001b[1;31mValueError\u001b[0m: too many values to unpack (expected 2)"
     ]
    }
   ],
   "source": [
    "from vision.camera import *\n",
    "from time import *\n",
    "from vision.map import *\n",
    "from global_navigation.main import *\n",
    "cam = Camera()\n",
    "map = Map(cam, number_of_obstacles=3, robot_size=25)\n",
    "map.findObstacles()\n",
    "glob = Global(map.obstacles)\n",
    "initial, _, final = map.getInitialFinalData()\n",
    "print(map.obstacles)\n",
    "cam.obstacles = map.obstacles\n",
    "cam.startPosition = initial\n",
    "cam.goalPosition = final\n",
    "print(initial, final)\n",
    "glob.find_optimal_path(initial, final)\n",
    "cam.optimalPath = glob.optimal_path\n",
    "\n",
    "print(\"Initial position: \", initial)\n",
    "print(\"Final position: \", final)\n",
    "print(\"Obstacles: \", map.obstacles)\n",
    "print(\"Optimal path: \", glob.optimal_path)\n",
    "\n",
    "while True:\n",
    "    # Get the position and the orientation\n",
    "    p,theta = map.cameraRobotSensing()\n",
    "    cam.robotMeasuredPosition = p\n",
    "    cam.robotMeasuredOrientation = theta\n",
    "    if(cam.display()):\n",
    "        cam.release()\n",
    "        break\n",
    "\n",
    "cam.release()\n",
    "cv2.destroyAllWindows()"
   ]
  }
 ],
 "metadata": {
  "kernelspec": {
   "display_name": ".venv",
   "language": "python",
   "name": "python3"
  },
  "language_info": {
   "codemirror_mode": {
    "name": "ipython",
    "version": 3
   },
   "file_extension": ".py",
   "mimetype": "text/x-python",
   "name": "python",
   "nbconvert_exporter": "python",
   "pygments_lexer": "ipython3",
   "version": "3.11.2"
  }
 },
 "nbformat": 4,
 "nbformat_minor": 2
}
