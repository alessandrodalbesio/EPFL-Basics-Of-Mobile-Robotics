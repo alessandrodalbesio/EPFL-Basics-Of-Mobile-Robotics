{
 "cells": [
  {
   "cell_type": "markdown",
   "metadata": {},
   "source": [
    "# Filtering"
   ]
  },
  {
   "cell_type": "code",
   "execution_count": null,
   "metadata": {},
   "outputs": [],
   "source": [
    "import numpy as np\n",
    "\n",
    "def robot_speed(speed_left, speed_right):\n",
    "    return (speed_left + speed_right) / 2.0\n",
    "\n",
    "# Define system parameters\n",
    "dt = 0.1  # Time step\n",
    "wheelbase = 0.5  # Distance between the wheels\n",
    "sigma_gps = 0.5  # GPS noise\n",
    "\n",
    "wheel_speed_left = 0.5  # Wheel speed left\n",
    "wheel_speed_right = 0.7  # Wheel speed right\n",
    "\n",
    "v = robot_speed(wheel_speed_left, wheel_speed_right)  # Robot speed\n",
    "dtheta = dt*(wheel_speed_right - wheel_speed_left) / wheelbase  # Robot angular speed\n",
    "\n",
    "ds = v * dt  # Robot displacement\n",
    "# State vector: [x, y, theta]\n",
    "x = np.zeros((3, 1))\n",
    "\n",
    "# State transition matrix A\n",
    "A = np.array([\n",
    "    [1, 0, -ds * np.sin(x[2]+dtheta/2)],\n",
    "    [0, 1, ds * np.cos(x[2]+dtheta/2)],\n",
    "    [0, 0, 1],\n",
    "])\n",
    "\n",
    "# Control input matrix B\n",
    "B = np.array([\n",
    "    [0.5 * dt * np.cos(x[2]), 0.5 * dt * np.cos(x[2])],\n",
    "    [0.5 * dt * np.sin(x[2]), 0.5 * dt * np.sin(x[2])],\n",
    "    [1.0 / wheelbase, -1.0 / wheelbase],\n",
    "])\n",
    "\n",
    "# Measurement matrix H\n",
    "H = np.array([\n",
    "    [1, 0, 0],  # GPS x\n",
    "    [0, 1, 0],  # GPS y\n",
    "    [0, 0, 1],  # GPS theta\n",
    "])\n",
    "\n",
    "# Measurement noise covariance matrix R\n",
    "R = np.diag([sigma_gps**2, sigma_gps**2, sigma_gps**2])\n",
    "\n",
    "# Process noise covariance matrix Q\n",
    "Q = np.diag([0.1, 0.1, 0.1])\n",
    "\n",
    "# Initial state covariance matrix P\n",
    "P = np.diag([1, 1, 1])\n",
    "\n",
    "# Kalman filter loop\n",
    "for i in range(num_steps):\n",
    "    # Prediction\n",
    "    u = [wheel_speed_left, wheel_speed_right]  # Replace with actual wheel velocity inputs\n",
    "    x = A.dot(x) + B.dot(u)\n",
    "\n",
    "    # Prediction covariance\n",
    "    P = A.dot(P).dot(A.T) + Q\n",
    "\n",
    "    # Update\n",
    "    K = P.dot(H.T).dot(np.linalg.inv(H.dot(P).dot(H.T) + R))\n",
    "    z = get_sensor_measurements()  # Replace with actual sensor measurements (X GPS, Y GPS, Theta GPS)\n",
    "    x = x + K.dot(z - H.dot(x))\n",
    "\n",
    "    # Update covariance\n",
    "    P = (np.eye(3) - K.dot(H)).dot(P)\n",
    "\n",
    "# Extract final estimates\n",
    "estimated_position = x[:2]\n",
    "estimated_orientation = x[2]\n"
   ]
  },
  {
   "cell_type": "code",
   "execution_count": 1,
   "metadata": {},
   "outputs": [],
   "source": [
    "from filterpy.kalman import KalmanFilter"
   ]
  },
  {
   "cell_type": "code",
   "execution_count": null,
   "metadata": {},
   "outputs": [],
   "source": [
    "f = KalmanFilter(dim_x=3, dim_z=3)\n",
    "f.x = np.zeros((3, 1))\n",
    "vx = robot_speed(get_wheel_speed())\n",
    "ds = dt*vx\n",
    "dtheta = dt*((get_wheel_speed()[0] - get_wheel_speed()[1])/wheelbase)\n",
    "f.F = np.array([\n",
    "    [1, 0, -ds * np.sin(f.x[2]+dtheta/2)],\n",
    "    [0, 1, ds * np.cos(f.x[2]+dtheta/2)],\n",
    "    [0, 0, 1],\n",
    "])\n",
    "\n"
   ]
  }
 ],
 "metadata": {
  "kernelspec": {
   "display_name": "Python 3",
   "language": "python",
   "name": "python3"
  },
  "language_info": {
   "codemirror_mode": {
    "name": "ipython",
    "version": 3
   },
   "file_extension": ".py",
   "mimetype": "text/x-python",
   "name": "python",
   "nbconvert_exporter": "python",
   "pygments_lexer": "ipython3",
   "version": "3.12.0"
  }
 },
 "nbformat": 4,
 "nbformat_minor": 2
}
