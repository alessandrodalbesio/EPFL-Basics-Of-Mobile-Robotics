{
 "cells": [
  {
   "cell_type": "markdown",
   "metadata": {},
   "source": [
    "# Filtering"
   ]
  },
  {
   "cell_type": "markdown",
   "metadata": {},
   "source": [
    "## Camera filtering:\n",
    "\n",
    "needed inputs: wheel_speed, cameras, camera state, dt\n",
    "fixed variables: wheelbase (measured), GPS noise on axes (measured)\n",
    "outputs: "
   ]
  },
  {
   "cell_type": "code",
   "execution_count": null,
   "metadata": {},
   "outputs": [],
   "source": [
    "import numpy as np\n",
    "\n",
    "\n",
    "\n",
    "class KalmanFilter:\n",
    "    def __init__(self, x0):\n",
    "        self.ds = 0.0\n",
    "        self.dtheta = 0.0\n",
    "        self.x = np.zeros((3, 1))\n",
    "        self.dt = 0.0\n",
    "        self.wheelbase = 0.0\n",
    "        self.sigma_gpsx = 0.0\n",
    "        self.sigma_gpsy = 0.0\n",
    "        self.sigma_gpstheta = 0.0\n",
    "        self.A = np.array([\n",
    "            [1, 0, -self.ds * np.sin(self.x[2]+self.dtheta/2)],\n",
    "            [0, 1, self.ds * np.cos(self.x[2]+self.dtheta/2)],\n",
    "            [0, 0, 1],\n",
    "        ])\n",
    "        self.B = np.array([\n",
    "            [0.5 * self.dt * np.cos(self.x[2]), 0.5 * self.dt * np.cos(self.x[2])],\n",
    "            [0.5 * self.dt * np.sin(self.x[2]), 0.5 * self.dt * np.sin(self.x[2])],\n",
    "            [1.0 / self.wheelbase, -1.0 / self.wheelbase],\n",
    "        ])\n",
    "        self.H = np.array([\n",
    "            [1, 0, 0],  # GPS x\n",
    "            [0, 1, 0],  # GPS y\n",
    "            [0, 0, 1],  # GPS theta\n",
    "        ])\n",
    "        self.Q = np.diag([0.1, 0.1, 0.1])\n",
    "        self.R = np.diag([self.sigma_gpsx**2, self.sigma_gpsy**2, self.sigma_gpstheta**2])\n",
    "        self.P = np.diag([1, 1, 1])\n",
    "        self.x = x0\n",
    "    def robot_speed(speed_left, speed_right):\n",
    "        return (speed_left + speed_right) / 2.0\n",
    "\n",
    "    def update_kalman(self, wheel_speed_left, wheel_speed_right, camera_state, dt, camera_data):\n",
    "        self.dt = dt\n",
    "        v = self.robot_speed(wheel_speed_left, wheel_speed_right)  # Robot speed\n",
    "        self.dtheta = self.dt*(wheel_speed_right - wheel_speed_left) / self.wheelbase  # Robot angular speed\n",
    "\n",
    "        self.ds = v * self.dt  # Robot displacement\n",
    "        # State vector: [x, y, theta]\n",
    "        u = [wheel_speed_left, wheel_speed_right]  # Replace with actual wheel velocity inputs\n",
    "        self.x = self.A.dot(self.x) + self.B.dot(u)\n",
    "\n",
    "        if(camera_state == on):\n",
    "            # Prediction covariance\n",
    "            self.P = self.A.dot(self.P).dot(self.A.T) + self.Q\n",
    "\n",
    "            # Update\n",
    "            self.K = self.P.dot(self.H.T).dot(np.linalg.inv(self.H.dot(self.P).dot(self.H.T) + self.R))\n",
    "            self.z = camera_data  # Replace with actual sensor measurements (X GPS, Y GPS, Theta GPS)\n",
    "            self.x = self.x + self.K.dot(self.z - self.H.dot(self.x))\n",
    "\n",
    "            # Update covariance\n",
    "            self.P = (np.eye(3) - self.K.dot(self.H)).dot(self.P)\n",
    "\n",
    "        # Extract final estimates\n",
    "        estimated_position = self.x[:2]\n",
    "        estimated_orientation = self.x[2]\n",
    "        return estimated_position, estimated_orientation\n",
    "        \n"
   ]
  },
  {
   "cell_type": "code",
   "execution_count": 1,
   "metadata": {},
   "outputs": [],
   "source": [
    "from filterpy.kalman import KalmanFilter"
   ]
  },
  {
   "cell_type": "code",
   "execution_count": null,
   "metadata": {},
   "outputs": [],
   "source": [
    "f = KalmanFilter(dim_x=3, dim_z=3)\n",
    "f.x = np.zeros((3, 1))\n",
    "vx = robot_speed(get_wheel_speed())\n",
    "ds = dt*vx\n",
    "dtheta = dt*((get_wheel_speed()[0] - get_wheel_speed()[1])/wheelbase)\n",
    "f.F = np.array([\n",
    "    [1, 0, -ds * np.sin(f.x[2]+dtheta/2)],\n",
    "    [0, 1, ds * np.cos(f.x[2]+dtheta/2)],\n",
    "    [0, 0, 1],\n",
    "])\n",
    "\n"
   ]
  }
 ],
 "metadata": {
  "kernelspec": {
   "display_name": "Python 3",
   "language": "python",
   "name": "python3"
  },
  "language_info": {
   "codemirror_mode": {
    "name": "ipython",
    "version": 3
   },
   "file_extension": ".py",
   "mimetype": "text/x-python",
   "name": "python",
   "nbconvert_exporter": "python",
   "pygments_lexer": "ipython3",
   "version": "3.12.0"
  }
 },
 "nbformat": 4,
 "nbformat_minor": 2
}
