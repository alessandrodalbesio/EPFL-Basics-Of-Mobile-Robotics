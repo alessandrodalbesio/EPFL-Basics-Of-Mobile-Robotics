{
 "cells": [
  {
   "cell_type": "markdown",
   "metadata": {},
   "source": [
    "## Report project basic of mobile robotics - group 17\n",
    "### Who we are\n",
    "\n",
    "### Project description\n",
    "\n",
    "### Code implementation\n",
    "##### 0. Import needed libraries\n"
   ]
  },
  {
   "cell_type": "code",
   "execution_count": 1,
   "metadata": {},
   "outputs": [],
   "source": [
    "from vision.map import * # Import map library\n",
    "from tdmclient import ClientAsync # Import thymio library\n",
    "from utils.exceptions import * # Import exceptions\n",
    "from utils.logger import * # Import logger"
   ]
  },
  {
   "cell_type": "markdown",
   "metadata": {},
   "source": [
    "##### 1. Computer Vision"
   ]
  },
  {
   "cell_type": "code",
   "execution_count": 2,
   "metadata": {},
   "outputs": [
    {
     "data": {
      "image/png": "[encoded data removed]",
      "text/plain": [
       "<Figure size 640x480 with 1 Axes>"
      ]
     },
     "metadata": {},
     "output_type": "display_data"
    }
   ],
   "source": [
    "map = createMap()\n",
    "initialPoint, finalPoint = getInitialFinalPoints()\n",
    "map.plot(\n",
    "    initialPoint=initialPoint,\n",
    "    finalPoint=finalPoint,\n",
    ")"
   ]
  },
  {
   "cell_type": "markdown",
   "metadata": {},
   "source": [
    "##### 2. Global Navigation"
   ]
  },
  {
   "cell_type": "code",
   "execution_count": null,
   "metadata": {},
   "outputs": [],
   "source": []
  },
  {
   "cell_type": "markdown",
   "metadata": {},
   "source": [
    "##### 3. Local Navigation"
   ]
  },
  {
   "cell_type": "code",
   "execution_count": null,
   "metadata": {},
   "outputs": [],
   "source": []
  },
  {
   "cell_type": "markdown",
   "metadata": {},
   "source": [
    "##### 4. Filtering"
   ]
  },
  {
   "cell_type": "code",
   "execution_count": null,
   "metadata": {},
   "outputs": [],
   "source": []
  },
  {
   "cell_type": "markdown",
   "metadata": {},
   "source": [
    "##### 5. Demo"
   ]
  },
  {
   "cell_type": "code",
   "execution_count": null,
   "metadata": {},
   "outputs": [],
   "source": [
    "##### Imports and variables definition #####\n",
    "start = goal = None\n",
    "\n",
    "try:\n",
    "    ##### Connection to the robot #####\n",
    "    client = ClientAsync()\n",
    "    node = await client.wait_for_node()\n",
    "    await node.lock()\n",
    "\n",
    "    ##### Map creation #####\n",
    "    map = createMap()\n",
    "\n",
    "    ##### Loop #####\n",
    "    while True:\n",
    "\n",
    "        # Final and initial position estimation and path planning\n",
    "        if start == None or goal == None:\n",
    "            start, goal = getInitialFinalPoints()\n",
    "\n",
    "            # Get path [TODO]\n",
    "        \n",
    "        # Sensing [TODO]\n",
    "        cameraPos, cameraOrientation = cameraRobotSensing()\n",
    "        await node.wait_for_variables()\n",
    "        if node[\"button.center\"] == 1:\n",
    "            raise CenterButtonPressed\n",
    "\n",
    "        # Find out if the robot has been kidnapped [TODO]\n",
    "\n",
    "        # Choose what to do based on the kidnapped state \n",
    "        if True:\n",
    "            pass\n",
    "            # Kidnapping management [TODO]\n",
    "        else:\n",
    "            pass\n",
    "            # Position estimation [TODO]\n",
    "\n",
    "            # Control [TODO]\n",
    "\n",
    "            # Actuation [TODO]\n",
    "except CenterButtonPressed:\n",
    "    logger.info(\"Center button pressed\")\n",
    "except Exception as e:\n",
    "    logger.error(e, exc_info=True)\n",
    "finally:\n",
    "    # If the connection is open, close it\n",
    "    if client is not None:\n",
    "        await client.close()"
   ]
  }
 ],
 "metadata": {
  "kernelspec": {
   "display_name": ".venv",
   "language": "python",
   "name": "python3"
  },
  "language_info": {
   "codemirror_mode": {
    "name": "ipython",
    "version": 3
   },
   "file_extension": ".py",
   "mimetype": "text/x-python",
   "name": "python",
   "nbconvert_exporter": "python",
   "pygments_lexer": "ipython3",
   "version": "3.11.1"
  }
 },
 "nbformat": 4,
 "nbformat_minor": 2
}
